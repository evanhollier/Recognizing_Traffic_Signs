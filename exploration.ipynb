{
 "cells": [
  {
   "cell_type": "code",
   "execution_count": 18,
   "metadata": {},
   "outputs": [],
   "source": [
    "import pandas as pd\n",
    "import matplotlib.pyplot as plt\n",
    "import pickle\n",
    "from collections import Counter\n",
    "import random\n"
   ]
  },
  {
   "cell_type": "code",
   "execution_count": 12,
   "metadata": {},
   "outputs": [],
   "source": [
    "# Load train, validation, test images\n",
    "dataroot = \"dataroot/\"\n",
    "train_data = pickle.load(open(dataroot+\"train.p\", \"rb\" ))\n",
    "validation_data = pickle.load(open(dataroot+\"valid.p\", \"rb\"))\n",
    "test_data = pickle.load(open(dataroot+\"test.p\", \"rb\"))"
   ]
  },
  {
   "cell_type": "code",
   "execution_count": 13,
   "metadata": {},
   "outputs": [],
   "source": [
    "# Load sign names\n",
    "df = pd.read_csv(\"https://raw.githubusercontent.com/emmanueliarussi/DataScienceCapstone/master/3_MidtermProjects/ProjectRTS/data/signnames.csv\")\n",
    "signnames = pd.Series(df.SignName.values,index=df.ClassId).to_dict()\n",
    "#signnames"
   ]
  },
  {
   "cell_type": "code",
   "execution_count": 14,
   "metadata": {},
   "outputs": [
    {
     "name": "stdout",
     "output_type": "stream",
     "text": [
      "51839\n"
     ]
    }
   ],
   "source": [
    "def create_dataframe(data, data_type):\n",
    "    features = data['features']\n",
    "    labels = data['labels']\n",
    "    df = pd.DataFrame({'Image': list(features), 'Label': labels})\n",
    "    df['SignName'] = df['Label'].map(signnames)\n",
    "    df['DataType'] = data_type\n",
    "    return df\n",
    "\n",
    "train_df = create_dataframe(train_data, 'train')\n",
    "validation_df = create_dataframe(validation_data, 'validation')\n",
    "test_df = create_dataframe(test_data, 'test')\n",
    "\n",
    "# Combine all data into a single DataFrame\n",
    "all_data_df = pd.concat([train_df, validation_df, test_df], ignore_index=True)\n",
    "print(len(all_data_df))"
   ]
  },
  {
   "cell_type": "code",
   "execution_count": 15,
   "metadata": {},
   "outputs": [
    {
     "data": {
      "text/html": [
       "<div>\n",
       "<style scoped>\n",
       "    .dataframe tbody tr th:only-of-type {\n",
       "        vertical-align: middle;\n",
       "    }\n",
       "\n",
       "    .dataframe tbody tr th {\n",
       "        vertical-align: top;\n",
       "    }\n",
       "\n",
       "    .dataframe thead th {\n",
       "        text-align: right;\n",
       "    }\n",
       "</style>\n",
       "<table border=\"1\" class=\"dataframe\">\n",
       "  <thead>\n",
       "    <tr style=\"text-align: right;\">\n",
       "      <th></th>\n",
       "      <th>Image</th>\n",
       "      <th>Label</th>\n",
       "      <th>SignName</th>\n",
       "      <th>DataType</th>\n",
       "    </tr>\n",
       "  </thead>\n",
       "  <tbody>\n",
       "    <tr>\n",
       "      <th>0</th>\n",
       "      <td>[[[28, 25, 24], [27, 24, 23], [27, 24, 22], [2...</td>\n",
       "      <td>41</td>\n",
       "      <td>End of no passing</td>\n",
       "      <td>train</td>\n",
       "    </tr>\n",
       "    <tr>\n",
       "      <th>1</th>\n",
       "      <td>[[[28, 24, 24], [26, 23, 23], [27, 24, 24], [2...</td>\n",
       "      <td>41</td>\n",
       "      <td>End of no passing</td>\n",
       "      <td>train</td>\n",
       "    </tr>\n",
       "    <tr>\n",
       "      <th>2</th>\n",
       "      <td>[[[29, 25, 25], [29, 26, 26], [30, 27, 27], [3...</td>\n",
       "      <td>41</td>\n",
       "      <td>End of no passing</td>\n",
       "      <td>train</td>\n",
       "    </tr>\n",
       "    <tr>\n",
       "      <th>3</th>\n",
       "      <td>[[[31, 28, 26], [29, 26, 24], [30, 27, 26], [2...</td>\n",
       "      <td>41</td>\n",
       "      <td>End of no passing</td>\n",
       "      <td>train</td>\n",
       "    </tr>\n",
       "    <tr>\n",
       "      <th>4</th>\n",
       "      <td>[[[33, 27, 25], [31, 25, 24], [32, 26, 25], [3...</td>\n",
       "      <td>41</td>\n",
       "      <td>End of no passing</td>\n",
       "      <td>train</td>\n",
       "    </tr>\n",
       "  </tbody>\n",
       "</table>\n",
       "</div>"
      ],
      "text/plain": [
       "                                               Image  Label  \\\n",
       "0  [[[28, 25, 24], [27, 24, 23], [27, 24, 22], [2...     41   \n",
       "1  [[[28, 24, 24], [26, 23, 23], [27, 24, 24], [2...     41   \n",
       "2  [[[29, 25, 25], [29, 26, 26], [30, 27, 27], [3...     41   \n",
       "3  [[[31, 28, 26], [29, 26, 24], [30, 27, 26], [2...     41   \n",
       "4  [[[33, 27, 25], [31, 25, 24], [32, 26, 25], [3...     41   \n",
       "\n",
       "            SignName DataType  \n",
       "0  End of no passing    train  \n",
       "1  End of no passing    train  \n",
       "2  End of no passing    train  \n",
       "3  End of no passing    train  \n",
       "4  End of no passing    train  "
      ]
     },
     "execution_count": 15,
     "metadata": {},
     "output_type": "execute_result"
    }
   ],
   "source": [
    "all_data_df.head()"
   ]
  },
  {
   "cell_type": "code",
   "execution_count": 26,
   "metadata": {},
   "outputs": [
    {
     "data": {
      "image/png": "[encoded data removed]",
      "text/plain": [
       "<Figure size 432x288 with 1 Axes>"
      ]
     },
     "metadata": {
      "needs_background": "light"
     },
     "output_type": "display_data"
    }
   ],
   "source": [
    "# Display a random sample\n",
    "\n",
    "random_index = random.randint(0, len(all_data_df) - 1)\n",
    "sample = all_data_df.iloc[random_index]\n",
    "\n",
    "image = sample['Image']\n",
    "sign_name = sample['SignName']\n",
    "\n",
    "plt.imshow(image)\n",
    "plt.title(f\"{sign_name} sign\")\n",
    "plt.axis('off')\n",
    "plt.show()"
   ]
  },
  {
   "cell_type": "code",
   "execution_count": 16,
   "metadata": {},
   "outputs": [],
   "source": [
    "#label_counts = Counter(train_data['labels'])"
   ]
  }
 ],
 "metadata": {
  "kernelspec": {
   "display_name": "Python 3",
   "language": "python",
   "name": "python3"
  },
  "language_info": {
   "codemirror_mode": {
    "name": "ipython",
    "version": 3
   },
   "file_extension": ".py",
   "mimetype": "text/x-python",
   "name": "python",
   "nbconvert_exporter": "python",
   "pygments_lexer": "ipython3",
   "version": "3.10.7"
  }
 },
 "nbformat": 4,
 "nbformat_minor": 2
}
