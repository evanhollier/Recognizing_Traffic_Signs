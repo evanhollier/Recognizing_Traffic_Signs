{
 "cells": [
  {
   "cell_type": "code",
   "execution_count": null,
   "id": "1cc41a1d-08c3-46a0-80d0-612cbd198944",
   "metadata": {},
   "outputs": [],
   "source": [
    "import pickle\n",
    "import tensorflow as tf\n",
    "import keras\n",
    "from keras.utils import to_categorical\n",
    "from tensorflow.keras.applications import EfficientNetB0\n",
    "from keras.models import Model\n",
    "from keras.layers import Dense, GlobalAveragePooling2D\n",
    "from keras.metrics import Precision, Recall\n",
    "from sklearn.metrics import precision_score, recall_score\n",
    "from tensorflow.keras.models import load_model\n",
    "import matplotlib.pyplot as plt\n",
    "from matplotlib.ticker import MultipleLocator\n",
    "import seaborn as sns\n",
    "import numpy as np\n",
    "import os, shutil, pathlib"
   ]
  },
  {
   "cell_type": "code",
   "execution_count": 2,
   "id": "be7b16fa-a9f7-4688-8d95-516e8bef289e",
   "metadata": {},
   "outputs": [
    {
     "name": "stderr",
     "output_type": "stream",
     "text": [
      "2024-07-16 21:21:52.300185: E external/local_xla/xla/stream_executor/cuda/cuda_driver.cc:282] failed call to cuInit: CUDA_ERROR_NOT_FOUND: named symbol not found\n",
      "/usr/local/lib/python3.11/dist-packages/keras/src/saving/saving_lib.py:396: UserWarning: Skipping variable loading for optimizer 'adam', because it has 440 variables whereas the saved optimizer has 18 variables. \n",
      "  trackable.load_own_variables(weights_store.get(inner_path))\n"
     ]
    }
   ],
   "source": [
    "global_best_model = keras.models.load_model('global_best_model.keras')"
   ]
  },
  {
   "cell_type": "code",
   "execution_count": 3,
   "id": "db18269f-9c7b-41dd-9f91-057e5b0b8427",
   "metadata": {},
   "outputs": [
    {
     "name": "stdout",
     "output_type": "stream",
     "text": [
      "(12630, 128, 128, 3)\n"
     ]
    }
   ],
   "source": [
    "# Load test images\n",
    "dataroot = \"dataroot/\"\n",
    "train_data = pickle.load(open(dataroot+\"test.p\", \"rb\" ))\n",
    "\n",
    "X_test_original, y_test = train_data['features'], train_data['labels']\n",
    "\n",
    "def resize_images(images, new_size):\n",
    "    resized_images = tf.image.resize(images, new_size, method=tf.image.ResizeMethod.NEAREST_NEIGHBOR)\n",
    "    return resized_images\n",
    "\n",
    "new_size = (128, 128)\n",
    "X_test = resize_images(X_test_original, new_size).numpy()\n",
    "\n",
    "print(X_test.shape)\n",
    "\n",
    "# One-hot encode\n",
    "num_classes = 43\n",
    "y_test = to_categorical(y_test, num_classes)"
   ]
  },
  {
   "cell_type": "code",
   "execution_count": 19,
   "id": "253843c0-1e2f-41bd-80b8-f278f7ea3fdb",
   "metadata": {},
   "outputs": [
    {
     "data": {
      "text/plain": [
       "array([[0., 0., 0., ..., 0., 0., 0.],\n",
       "       [0., 1., 0., ..., 0., 0., 0.],\n",
       "       [0., 0., 0., ..., 0., 0., 0.],\n",
       "       ...,\n",
       "       [0., 0., 0., ..., 0., 0., 0.],\n",
       "       [0., 0., 0., ..., 0., 0., 0.],\n",
       "       [0., 0., 0., ..., 0., 0., 0.]])"
      ]
     },
     "execution_count": 19,
     "metadata": {},
     "output_type": "execute_result"
    }
   ],
   "source": [
    "y_test"
   ]
  },
  {
   "cell_type": "code",
   "execution_count": 5,
   "id": "ac8ee9af-1bfb-4e54-b665-9f14aade2e5d",
   "metadata": {},
   "outputs": [
    {
     "name": "stdout",
     "output_type": "stream",
     "text": [
      "\u001b[1m395/395\u001b[0m \u001b[32m━━━━━━━━━━━━━━━━━━━━\u001b[0m\u001b[37m\u001b[0m \u001b[1m59s\u001b[0m 148ms/step - accuracy: 0.6134 - loss: 2.6842 - recall: 0.6011\n"
     ]
    },
    {
     "data": {
      "text/plain": [
       "[2.688218832015991, 0.6104512810707092, 0.5986539721488953]"
      ]
     },
     "execution_count": 5,
     "metadata": {},
     "output_type": "execute_result"
    }
   ],
   "source": [
    "global_best_model.evaluate(X_test, y_test)"
   ]
  },
  {
   "cell_type": "code",
   "execution_count": null,
   "id": "cb37470d-7d74-4e64-9d76-b014078b7c1a",
   "metadata": {},
   "outputs": [],
   "source": []
  }
 ],
 "metadata": {
  "kernelspec": {
   "display_name": "Python 3 (ipykernel)",
   "language": "python",
   "name": "python3"
  },
  "language_info": {
   "codemirror_mode": {
    "name": "ipython",
    "version": 3
   },
   "file_extension": ".py",
   "mimetype": "text/x-python",
   "name": "python",
   "nbconvert_exporter": "python",
   "pygments_lexer": "ipython3",
   "version": "3.11.0rc1"
  }
 },
 "nbformat": 4,
 "nbformat_minor": 5
}
